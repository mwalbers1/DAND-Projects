{
 "cells": [
  {
   "cell_type": "markdown",
   "id": "7715eb76",
   "metadata": {},
   "source": [
    "# Analyze AB Test Results\n",
    "\n",
    "### This project analyzes the A/B Test results of an e-commerce web site.  \n",
    "\n",
    "The control group was served the existing landing page while the treatment group received a new landing page. The experiment measures conversion rates from free to paid subscription/services for the control and treatment groups.  The statistical significance of the conversion rates for each variant (control versus treatment group) is calculated.  Finally, the conversion rates are calculated by the country of residence (United States, United Kingdom (UK), or Canada) to determine if conversion rates vary by country.\n",
    "\n",
    "The key metric for this experiment is the conversion rate of e-commerce website users from the free to a paid subscription/service.\n",
    "\n",
    "A/B test results data set: <strong>ab_data.csv</strong>\n",
    "1. user_id \n",
    "2. timestamp\n",
    "3. group\n",
    "4. landing_page\n",
    "5. converted\n",
    "\n",
    "Countries data set: <strong>countries.csv</strong>\n",
    "1. user_id\n",
    "2. country\n",
    "\n",
    "### The goal will be to determine whether the e-commerce site should switch to using the new landing page to generate higher profits\n",
    "\n",
    "### References\n",
    "1. Data Analyst Nanodegree, www.Udacity.com\n",
    "2. A/B Testing for Business Analytics, www.Udacity.com\n",
    "3. Analyzing Marketing Campaigns with pandas, www.DataCamp.com\n",
    "4. What is p-value and how to calculate it, https://rebeccaebarnes.github.io/2018/05/01/what-is-a-p-value"
   ]
  },
  {
   "cell_type": "markdown",
   "id": "6f8028b9",
   "metadata": {},
   "source": [
    "## Import datasets"
   ]
  },
  {
   "cell_type": "code",
   "execution_count": 172,
   "id": "6b0e66be",
   "metadata": {},
   "outputs": [],
   "source": [
    "import pandas as pd\n",
    "import numpy as np\n",
    "import matplotlib.pyplot as plt\n",
    "%matplotlib inline"
   ]
  },
  {
   "cell_type": "code",
   "execution_count": 173,
   "id": "ce5f5fa7",
   "metadata": {},
   "outputs": [],
   "source": [
    "ab_data = pd.read_csv('ab_data.csv', parse_dates=['timestamp'], infer_datetime_format=True)"
   ]
  },
  {
   "cell_type": "code",
   "execution_count": 174,
   "id": "0d3eacf6",
   "metadata": {
    "scrolled": true
   },
   "outputs": [
    {
     "name": "stdout",
     "output_type": "stream",
     "text": [
      "<class 'pandas.core.frame.DataFrame'>\n",
      "RangeIndex: 294478 entries, 0 to 294477\n",
      "Data columns (total 5 columns):\n",
      " #   Column        Non-Null Count   Dtype         \n",
      "---  ------        --------------   -----         \n",
      " 0   user_id       294478 non-null  int64         \n",
      " 1   timestamp     294478 non-null  datetime64[ns]\n",
      " 2   group         294478 non-null  object        \n",
      " 3   landing_page  294478 non-null  object        \n",
      " 4   converted     294478 non-null  int64         \n",
      "dtypes: datetime64[ns](1), int64(2), object(2)\n",
      "memory usage: 11.2+ MB\n"
     ]
    }
   ],
   "source": [
    "ab_data.info()"
   ]
  },
  {
   "cell_type": "code",
   "execution_count": 175,
   "id": "c4266dbb",
   "metadata": {},
   "outputs": [],
   "source": [
    "# Add day of week column\n",
    "ab_data['dow'] = ab_data['timestamp'].dt.dayofweek"
   ]
  },
  {
   "cell_type": "code",
   "execution_count": 176,
   "id": "f83efae5",
   "metadata": {},
   "outputs": [],
   "source": [
    "# Add date column\n",
    "ab_data['date'] = ab_data['timestamp'].dt.date"
   ]
  },
  {
   "cell_type": "code",
   "execution_count": 177,
   "id": "bf32c29a",
   "metadata": {
    "scrolled": true
   },
   "outputs": [
    {
     "data": {
      "text/html": [
       "<div>\n",
       "<style scoped>\n",
       "    .dataframe tbody tr th:only-of-type {\n",
       "        vertical-align: middle;\n",
       "    }\n",
       "\n",
       "    .dataframe tbody tr th {\n",
       "        vertical-align: top;\n",
       "    }\n",
       "\n",
       "    .dataframe thead th {\n",
       "        text-align: right;\n",
       "    }\n",
       "</style>\n",
       "<table border=\"1\" class=\"dataframe\">\n",
       "  <thead>\n",
       "    <tr style=\"text-align: right;\">\n",
       "      <th></th>\n",
       "      <th>user_id</th>\n",
       "      <th>timestamp</th>\n",
       "      <th>group</th>\n",
       "      <th>landing_page</th>\n",
       "      <th>converted</th>\n",
       "      <th>dow</th>\n",
       "      <th>date</th>\n",
       "    </tr>\n",
       "  </thead>\n",
       "  <tbody>\n",
       "    <tr>\n",
       "      <th>0</th>\n",
       "      <td>851104</td>\n",
       "      <td>2017-01-21 22:11:48.556739</td>\n",
       "      <td>control</td>\n",
       "      <td>old_page</td>\n",
       "      <td>0</td>\n",
       "      <td>5</td>\n",
       "      <td>2017-01-21</td>\n",
       "    </tr>\n",
       "    <tr>\n",
       "      <th>1</th>\n",
       "      <td>804228</td>\n",
       "      <td>2017-01-12 08:01:45.159739</td>\n",
       "      <td>control</td>\n",
       "      <td>old_page</td>\n",
       "      <td>0</td>\n",
       "      <td>3</td>\n",
       "      <td>2017-01-12</td>\n",
       "    </tr>\n",
       "    <tr>\n",
       "      <th>2</th>\n",
       "      <td>661590</td>\n",
       "      <td>2017-01-11 16:55:06.154213</td>\n",
       "      <td>treatment</td>\n",
       "      <td>new_page</td>\n",
       "      <td>0</td>\n",
       "      <td>2</td>\n",
       "      <td>2017-01-11</td>\n",
       "    </tr>\n",
       "    <tr>\n",
       "      <th>3</th>\n",
       "      <td>853541</td>\n",
       "      <td>2017-01-08 18:28:03.143765</td>\n",
       "      <td>treatment</td>\n",
       "      <td>new_page</td>\n",
       "      <td>0</td>\n",
       "      <td>6</td>\n",
       "      <td>2017-01-08</td>\n",
       "    </tr>\n",
       "    <tr>\n",
       "      <th>4</th>\n",
       "      <td>864975</td>\n",
       "      <td>2017-01-21 01:52:26.210827</td>\n",
       "      <td>control</td>\n",
       "      <td>old_page</td>\n",
       "      <td>1</td>\n",
       "      <td>5</td>\n",
       "      <td>2017-01-21</td>\n",
       "    </tr>\n",
       "  </tbody>\n",
       "</table>\n",
       "</div>"
      ],
      "text/plain": [
       "   user_id                  timestamp      group landing_page  converted  dow  \\\n",
       "0   851104 2017-01-21 22:11:48.556739    control     old_page          0    5   \n",
       "1   804228 2017-01-12 08:01:45.159739    control     old_page          0    3   \n",
       "2   661590 2017-01-11 16:55:06.154213  treatment     new_page          0    2   \n",
       "3   853541 2017-01-08 18:28:03.143765  treatment     new_page          0    6   \n",
       "4   864975 2017-01-21 01:52:26.210827    control     old_page          1    5   \n",
       "\n",
       "         date  \n",
       "0  2017-01-21  \n",
       "1  2017-01-12  \n",
       "2  2017-01-11  \n",
       "3  2017-01-08  \n",
       "4  2017-01-21  "
      ]
     },
     "execution_count": 177,
     "metadata": {},
     "output_type": "execute_result"
    }
   ],
   "source": [
    "ab_data.head()"
   ]
  },
  {
   "cell_type": "code",
   "execution_count": 178,
   "id": "aec1f487",
   "metadata": {},
   "outputs": [],
   "source": [
    "countries = pd.read_csv('countries.csv')"
   ]
  },
  {
   "cell_type": "code",
   "execution_count": 179,
   "id": "b7afb4a6",
   "metadata": {},
   "outputs": [
    {
     "name": "stdout",
     "output_type": "stream",
     "text": [
      "<class 'pandas.core.frame.DataFrame'>\n",
      "RangeIndex: 290584 entries, 0 to 290583\n",
      "Data columns (total 2 columns):\n",
      " #   Column   Non-Null Count   Dtype \n",
      "---  ------   --------------   ----- \n",
      " 0   user_id  290584 non-null  int64 \n",
      " 1   country  290584 non-null  object\n",
      "dtypes: int64(1), object(1)\n",
      "memory usage: 4.4+ MB\n"
     ]
    }
   ],
   "source": [
    "countries.info()"
   ]
  },
  {
   "cell_type": "markdown",
   "id": "637f51e2",
   "metadata": {},
   "source": [
    "## Exploratory Data Analysis"
   ]
  },
  {
   "cell_type": "code",
   "execution_count": 180,
   "id": "f9afc1bf",
   "metadata": {},
   "outputs": [
    {
     "name": "stdout",
     "output_type": "stream",
     "text": [
      "treatment    147276\n",
      "control      147202\n",
      "Name: group, dtype: int64\n"
     ]
    }
   ],
   "source": [
    "print(ab_data.group.value_counts())"
   ]
  },
  {
   "cell_type": "code",
   "execution_count": 181,
   "id": "e29d2e16",
   "metadata": {},
   "outputs": [
    {
     "name": "stdout",
     "output_type": "stream",
     "text": [
      "old_page    147239\n",
      "new_page    147239\n",
      "Name: landing_page, dtype: int64\n"
     ]
    }
   ],
   "source": [
    "print(ab_data.landing_page.value_counts())"
   ]
  },
  {
   "cell_type": "markdown",
   "id": "be6c15a1",
   "metadata": {},
   "source": [
    "### Visualize daily usage"
   ]
  },
  {
   "cell_type": "code",
   "execution_count": 182,
   "id": "a2b9860c",
   "metadata": {
    "scrolled": false
   },
   "outputs": [
    {
     "data": {
      "text/plain": [
       "date\n",
       "2017-01-02     5783\n",
       "2017-01-03    13387\n",
       "2017-01-04    13274\n",
       "2017-01-05    13116\n",
       "2017-01-06    13519\n",
       "Name: user_id, dtype: int64"
      ]
     },
     "execution_count": 182,
     "metadata": {},
     "output_type": "execute_result"
    }
   ],
   "source": [
    "all_users_daily = ab_data.groupby(['date'])['user_id'].nunique()\n",
    "all_users_daily.head()"
   ]
  },
  {
   "cell_type": "code",
   "execution_count": 183,
   "id": "e9b8dc79",
   "metadata": {},
   "outputs": [],
   "source": [
    "treatment_group = ab_data[ab_data['group']=='treatment']\n",
    "control_group = ab_data[ab_data['group']=='control']"
   ]
  },
  {
   "cell_type": "code",
   "execution_count": 184,
   "id": "87833eed",
   "metadata": {},
   "outputs": [
    {
     "data": {
      "text/plain": [
       "date\n",
       "2017-01-02    2889\n",
       "2017-01-03    6710\n",
       "2017-01-04    6626\n",
       "2017-01-05    6584\n",
       "2017-01-06    6839\n",
       "Name: user_id, dtype: int64"
      ]
     },
     "execution_count": 184,
     "metadata": {},
     "output_type": "execute_result"
    }
   ],
   "source": [
    "treatment_users_daily = treatment_group.groupby(['date'])['user_id'].nunique()\n",
    "treatment_users_daily.head()"
   ]
  },
  {
   "cell_type": "code",
   "execution_count": 185,
   "id": "707f5a00",
   "metadata": {},
   "outputs": [
    {
     "data": {
      "text/plain": [
       "date\n",
       "2017-01-02    2894\n",
       "2017-01-03    6682\n",
       "2017-01-04    6653\n",
       "2017-01-05    6535\n",
       "2017-01-06    6681\n",
       "Name: user_id, dtype: int64"
      ]
     },
     "execution_count": 185,
     "metadata": {},
     "output_type": "execute_result"
    }
   ],
   "source": [
    "control_users_daily = control_group.groupby(['date'])['user_id'].nunique()\n",
    "control_users_daily.head()"
   ]
  },
  {
   "cell_type": "code",
   "execution_count": 186,
   "id": "6ce9fe9b",
   "metadata": {},
   "outputs": [],
   "source": [
    "def plot_daily_usage(group_df, title):\n",
    "    group_df.plot()\n",
    "    plt.title(title)\n",
    "    plt.ylabel('Number of users')\n",
    "    plt.xticks(rotation=45)\n",
    "    plt.show()"
   ]
  },
  {
   "cell_type": "code",
   "execution_count": 187,
   "id": "eb028e90",
   "metadata": {},
   "outputs": [
    {
     "data": {
      "image/png": "[encoded data removed]",
      "text/plain": [
       "<Figure size 432x288 with 1 Axes>"
      ]
     },
     "metadata": {
      "needs_background": "light"
     },
     "output_type": "display_data"
    }
   ],
   "source": [
    "plot_daily_usage(all_users_daily, 'All daily users')"
   ]
  },
  {
   "cell_type": "code",
   "execution_count": 188,
   "id": "822e62e0",
   "metadata": {
    "scrolled": true
   },
   "outputs": [
    {
     "data": {
      "image/png": "[encoded data removed]",
      "text/plain": [
       "<Figure size 432x288 with 1 Axes>"
      ]
     },
     "metadata": {
      "needs_background": "light"
     },
     "output_type": "display_data"
    }
   ],
   "source": [
    "plot_daily_usage(treatment_users_daily, 'Treatment daily users')"
   ]
  },
  {
   "cell_type": "code",
   "execution_count": 189,
   "id": "e4e21127",
   "metadata": {
    "scrolled": true
   },
   "outputs": [
    {
     "data": {
      "image/png": "[encoded data removed]",
      "text/plain": [
       "<Figure size 432x288 with 1 Axes>"
      ]
     },
     "metadata": {
      "needs_background": "light"
     },
     "output_type": "display_data"
    }
   ],
   "source": [
    "plot_daily_usage(control_users_daily, 'Control daily users')"
   ]
  },
  {
   "cell_type": "markdown",
   "id": "069381f3",
   "metadata": {},
   "source": [
    ">The daily usage among the control and treatment groups seems to be similar."
   ]
  },
  {
   "cell_type": "markdown",
   "id": "1990e277",
   "metadata": {},
   "source": [
    "### Inspect both control and treatment groups\n",
    "Users in Control group should only view the old landing page while users in the Treatment group should only view the new landing page in this experiment"
   ]
  },
  {
   "cell_type": "code",
   "execution_count": 190,
   "id": "51c78757",
   "metadata": {},
   "outputs": [
    {
     "data": {
      "text/plain": [
       "landing_page\n",
       "new_page    145310\n",
       "old_page      1965\n",
       "Name: user_id, dtype: int64"
      ]
     },
     "execution_count": 190,
     "metadata": {},
     "output_type": "execute_result"
    }
   ],
   "source": [
    "treatment_users = treatment_group.groupby(['landing_page'])['user_id'].nunique()\n",
    "treatment_users.head()"
   ]
  },
  {
   "cell_type": "code",
   "execution_count": 191,
   "id": "6f2edac1",
   "metadata": {},
   "outputs": [
    {
     "data": {
      "text/plain": [
       "landing_page\n",
       "new_page      1928\n",
       "old_page    145274\n",
       "Name: user_id, dtype: int64"
      ]
     },
     "execution_count": 191,
     "metadata": {},
     "output_type": "execute_result"
    }
   ],
   "source": [
    "control_users = control_group.groupby(['landing_page'])['user_id'].nunique()\n",
    "control_users.head()"
   ]
  },
  {
   "cell_type": "code",
   "execution_count": 192,
   "id": "ce6c2ba7",
   "metadata": {},
   "outputs": [],
   "source": [
    "def bar_plot(group_df, title):\n",
    "    group_df.plot(kind='bar')\n",
    "    plt.title(title)\n",
    "    plt.ylabel('Number of users')\n",
    "    plt.show()"
   ]
  },
  {
   "cell_type": "code",
   "execution_count": 193,
   "id": "01cca269",
   "metadata": {},
   "outputs": [
    {
     "data": {
      "image/png": "[encoded data removed]",
      "text/plain": [
       "<Figure size 432x288 with 1 Axes>"
      ]
     },
     "metadata": {
      "needs_background": "light"
     },
     "output_type": "display_data"
    }
   ],
   "source": [
    "bar_plot(treatment_users, 'Treatment landing page')"
   ]
  },
  {
   "cell_type": "code",
   "execution_count": 194,
   "id": "12e59009",
   "metadata": {},
   "outputs": [
    {
     "data": {
      "image/png": "[encoded data removed]",
      "text/plain": [
       "<Figure size 432x288 with 1 Axes>"
      ]
     },
     "metadata": {
      "needs_background": "light"
     },
     "output_type": "display_data"
    }
   ],
   "source": [
    "bar_plot(control_users, 'Control landing page')"
   ]
  },
  {
   "cell_type": "markdown",
   "id": "26de0118",
   "metadata": {},
   "source": [
    ">There are cases where the control group viewed the new landing page, probably in error.  Also, there was a small percentage of treatment users exposed to the old page. Both of these cases will be removed from the sample."
   ]
  },
  {
   "cell_type": "code",
   "execution_count": 195,
   "id": "4d06f2ca",
   "metadata": {},
   "outputs": [],
   "source": [
    "treatment = ab_data.query('group == \"treatment\" and landing_page == \"new_page\"')\n",
    "control = ab_data.query('group == \"control\" and landing_page == \"old_page\"')"
   ]
  },
  {
   "attachments": {
    "conversion_rate.jpg": {
     "image/jpeg": "[encoded data removed]"
    }
   },
   "cell_type": "markdown",
   "id": "1689b1a0",
   "metadata": {},
   "source": [
    "## Conversion Rates\n",
    "The conversion rate is the percentage of people who subscribed/purchased a service among all of the people who visited the e-commerce site during this experiment. In this section, the conversion rate is calculated for both the control and treatment groups.  \n",
    "\n",
    "![conversion_rate.jpg](attachment:conversion_rate.jpg)"
   ]
  },
  {
   "cell_type": "code",
   "execution_count": 196,
   "id": "e7a9cbc3",
   "metadata": {},
   "outputs": [],
   "source": [
    "def calc_conversion_rate(df, column_names):\n",
    "    # Total number of converted users\n",
    "    column_conv = df[df['converted']==True].groupby(column_names)['user_id'].nunique()\n",
    "\n",
    "    # Total number users\n",
    "    column_total = df.groupby(column_names)['user_id'].nunique()\n",
    "    \n",
    "    # Conversion rate \n",
    "    conversion_rate = column_conv/column_total\n",
    "    \n",
    "    # Fill missing values with 0\n",
    "    conversion_rate = conversion_rate.fillna(0)\n",
    "    return conversion_rate"
   ]
  },
  {
   "cell_type": "code",
   "execution_count": 197,
   "id": "44c451df",
   "metadata": {},
   "outputs": [],
   "source": [
    "def plot_conv(df, column, title):\n",
    "    # Plot column by dataframe's index\n",
    "    plt.plot(df.index, df[column])\n",
    "    plt.title(title, size = 16)\n",
    "    plt.ylabel('Conversion rate', size = 14)\n",
    "    plt.ylim(0)\n",
    "    plt.xlabel('Date', size = 14)\n",
    "    plt.xticks(rotation=45)\n",
    "\n",
    "    # Show plot\n",
    "    plt.show()\n",
    "    plt.clf() # clear current figure"
   ]
  },
  {
   "cell_type": "markdown",
   "id": "f00b91ae",
   "metadata": {},
   "source": [
    "### Calculate conversion rates for Control and Treatment groups"
   ]
  },
  {
   "cell_type": "code",
   "execution_count": 198,
   "id": "3aa51355",
   "metadata": {},
   "outputs": [],
   "source": [
    "treatment_conv = calc_conversion_rate(treatment, ['date'])\n",
    "control_conv = calc_conversion_rate(control, ['date'])"
   ]
  },
  {
   "cell_type": "code",
   "execution_count": 199,
   "id": "f7c2dc21",
   "metadata": {},
   "outputs": [
    {
     "data": {
      "text/plain": [
       "count    23.000000\n",
       "mean      0.118874\n",
       "std       0.004169\n",
       "min       0.111248\n",
       "25%       0.115953\n",
       "50%       0.118065\n",
       "75%       0.121384\n",
       "max       0.127256\n",
       "Name: user_id, dtype: float64"
      ]
     },
     "execution_count": 199,
     "metadata": {},
     "output_type": "execute_result"
    }
   ],
   "source": [
    "treatment_conv.describe()"
   ]
  },
  {
   "cell_type": "code",
   "execution_count": 200,
   "id": "4585a828",
   "metadata": {},
   "outputs": [
    {
     "data": {
      "text/plain": [
       "count    23.000000\n",
       "mean      0.120470\n",
       "std       0.003952\n",
       "min       0.112864\n",
       "25%       0.118439\n",
       "50%       0.120494\n",
       "75%       0.123048\n",
       "max       0.126756\n",
       "Name: user_id, dtype: float64"
      ]
     },
     "execution_count": 200,
     "metadata": {},
     "output_type": "execute_result"
    }
   ],
   "source": [
    "control_conv.describe()"
   ]
  },
  {
   "cell_type": "markdown",
   "id": "dcff9fe0",
   "metadata": {},
   "source": [
    ">The average conversion rate for the treatment group is 11.8% versus 12% for the control group. So far, it appears our null hypothesis is true in that there is no difference in conversion rates among the control and treatment groups. The subsequent t-test will confirm this observation"
   ]
  },
  {
   "cell_type": "markdown",
   "id": "13b5c180",
   "metadata": {},
   "source": [
    "### Plot conversion rates for Control and Treatment groups"
   ]
  },
  {
   "cell_type": "code",
   "execution_count": 201,
   "id": "e61048eb",
   "metadata": {},
   "outputs": [],
   "source": [
    "treatment_conv_df = pd.DataFrame(treatment_conv)\n",
    "control_conv_df = pd.DataFrame(control_conv)"
   ]
  },
  {
   "cell_type": "code",
   "execution_count": 202,
   "id": "b193cd1b",
   "metadata": {},
   "outputs": [],
   "source": [
    "treatment_conv_df.columns = ['conv_rate']\n",
    "control_conv_df.columns = ['conv_rate']"
   ]
  },
  {
   "cell_type": "code",
   "execution_count": 203,
   "id": "8aa4fe48",
   "metadata": {
    "scrolled": true
   },
   "outputs": [
    {
     "name": "stdout",
     "output_type": "stream",
     "text": [
      "<class 'pandas.core.frame.DataFrame'>\n",
      "Index: 23 entries, 2017-01-02 to 2017-01-24\n",
      "Data columns (total 1 columns):\n",
      " #   Column     Non-Null Count  Dtype  \n",
      "---  ------     --------------  -----  \n",
      " 0   conv_rate  23 non-null     float64\n",
      "dtypes: float64(1)\n",
      "memory usage: 368.0+ bytes\n"
     ]
    }
   ],
   "source": [
    "treatment_conv_df.info()"
   ]
  },
  {
   "cell_type": "code",
   "execution_count": 204,
   "id": "de51b2f7",
   "metadata": {},
   "outputs": [
    {
     "name": "stdout",
     "output_type": "stream",
     "text": [
      "<class 'pandas.core.frame.DataFrame'>\n",
      "Index: 23 entries, 2017-01-02 to 2017-01-24\n",
      "Data columns (total 1 columns):\n",
      " #   Column     Non-Null Count  Dtype  \n",
      "---  ------     --------------  -----  \n",
      " 0   conv_rate  23 non-null     float64\n",
      "dtypes: float64(1)\n",
      "memory usage: 368.0+ bytes\n"
     ]
    }
   ],
   "source": [
    "control_conv_df.info()"
   ]
  },
  {
   "cell_type": "code",
   "execution_count": 205,
   "id": "939f3544",
   "metadata": {
    "scrolled": false
   },
   "outputs": [
    {
     "data": {
      "image/png": "[encoded data removed]",
      "text/plain": [
       "<Figure size 432x288 with 1 Axes>"
      ]
     },
     "metadata": {
      "needs_background": "light"
     },
     "output_type": "display_data"
    },
    {
     "data": {
      "text/plain": [
       "<Figure size 432x288 with 0 Axes>"
      ]
     },
     "metadata": {},
     "output_type": "display_data"
    }
   ],
   "source": [
    "plot_conv(treatment_conv_df, 'conv_rate', 'Daily Treatment group conversion rates')"
   ]
  },
  {
   "cell_type": "code",
   "execution_count": 206,
   "id": "97bccb7c",
   "metadata": {
    "scrolled": false
   },
   "outputs": [
    {
     "data": {
      "image/png": "[encoded data removed]",
      "text/plain": [
       "<Figure size 432x288 with 1 Axes>"
      ]
     },
     "metadata": {
      "needs_background": "light"
     },
     "output_type": "display_data"
    },
    {
     "data": {
      "text/plain": [
       "<Figure size 432x288 with 0 Axes>"
      ]
     },
     "metadata": {},
     "output_type": "display_data"
    }
   ],
   "source": [
    "plot_conv(control_conv_df, 'conv_rate', 'Daily Control group conversion rates')"
   ]
  },
  {
   "cell_type": "markdown",
   "id": "2106358e",
   "metadata": {},
   "source": [
    "## A/B Test"
   ]
  },
  {
   "cell_type": "code",
   "execution_count": 207,
   "id": "d953d2fd",
   "metadata": {},
   "outputs": [],
   "source": [
    "from scipy.stats import ttest_ind"
   ]
  },
  {
   "cell_type": "markdown",
   "id": "ecedebc9",
   "metadata": {},
   "source": [
    "### Inspect control and treatment groups\n",
    "We want to verify that both groups have roughly equal number of users"
   ]
  },
  {
   "cell_type": "code",
   "execution_count": 208,
   "id": "b6b07edc",
   "metadata": {},
   "outputs": [],
   "source": [
    "df_append = treatment.append(control)"
   ]
  },
  {
   "cell_type": "code",
   "execution_count": 209,
   "id": "ecbecafe",
   "metadata": {},
   "outputs": [],
   "source": [
    "ab_test_df = df_append.groupby(['group'])['user_id'].nunique()"
   ]
  },
  {
   "cell_type": "code",
   "execution_count": 210,
   "id": "c183d8a6",
   "metadata": {},
   "outputs": [
    {
     "data": {
      "text/plain": [
       "group\n",
       "control      145274\n",
       "treatment    145310\n",
       "Name: user_id, dtype: int64"
      ]
     },
     "execution_count": 210,
     "metadata": {},
     "output_type": "execute_result"
    }
   ],
   "source": [
    "ab_test_df.head()"
   ]
  },
  {
   "cell_type": "code",
   "execution_count": 211,
   "id": "def4e707",
   "metadata": {
    "scrolled": true
   },
   "outputs": [
    {
     "data": {
      "image/png": "[encoded data removed]",
      "text/plain": [
       "<Figure size 432x288 with 1 Axes>"
      ]
     },
     "metadata": {
      "needs_background": "light"
     },
     "output_type": "display_data"
    }
   ],
   "source": [
    "bar_plot(ab_test_df, 'Landing page test allocation')"
   ]
  },
  {
   "cell_type": "markdown",
   "id": "a7f71cdd",
   "metadata": {},
   "source": [
    "### Create Lift function\n",
    "#### Calculation of Lift:\n",
    "<br>\n",
    "<strong>(Treatment conversion rate - Control conversion rate) / Control conversion rate</strong>"
   ]
  },
  {
   "cell_type": "code",
   "execution_count": 212,
   "id": "5d321a17",
   "metadata": {},
   "outputs": [
    {
     "name": "stdout",
     "output_type": "stream",
     "text": [
      "-1.31%\n"
     ]
    }
   ],
   "source": [
    "def lift(a,b):\n",
    "    # Calcuate the mean of a and b\n",
    "    a_mean = np.mean(a)[0]\n",
    "    b_mean = np.mean(b)[0]\n",
    "    \n",
    "    # Calculate the lift using a_mean and b_mean\n",
    "    lift = (a_mean - b_mean)/b_mean\n",
    "  \n",
    "    return str(round(lift*100, 2)) + '%'\n",
    "  \n",
    "# Print lift() with control and personalization as inputs\n",
    "print(lift(treatment[['converted']],control[['converted']]))"
   ]
  },
  {
   "cell_type": "markdown",
   "id": "25abb727",
   "metadata": {},
   "source": [
    ">A negative lift percentage was returned which means that the existing landing page produced a slightly better conversion rate than the new landing page"
   ]
  },
  {
   "cell_type": "markdown",
   "id": "d18ff0bf",
   "metadata": {},
   "source": [
    "### Evaluate statistical significance\n",
    "Statistical significance shows whether a postive test result is by chance or if it is reflective of a true difference between the variants (i.e. control versus treatment groups)"
   ]
  },
  {
   "cell_type": "code",
   "execution_count": 213,
   "id": "c2f727fd",
   "metadata": {},
   "outputs": [
    {
     "data": {
      "text/plain": [
       "Ttest_indResult(statistic=array([1.3116069]), pvalue=array([0.18965384]))"
      ]
     },
     "execution_count": 213,
     "metadata": {},
     "output_type": "execute_result"
    }
   ],
   "source": [
    "ttest_ind(control[['converted']], treatment[['converted']])"
   ]
  },
  {
   "cell_type": "markdown",
   "id": "8a736029",
   "metadata": {},
   "source": [
    ">Our t-test returns a p-value greater than 0.05 so we have to accept the null hypothesis that there is no difference in conversion rates between existing landing page and the new landing page for the e-commerce site. At this point, the recommendation is to <strong>not</strong> switch to the new landing page."
   ]
  },
  {
   "cell_type": "markdown",
   "id": "39c6c958",
   "metadata": {},
   "source": [
    "## Country segmentation"
   ]
  },
  {
   "cell_type": "markdown",
   "id": "9a63afd9",
   "metadata": {},
   "source": [
    "Often a treatment will not affect all people uniformly.  Some people in a particular demographic such as country of origin may be more receptive to a particular landing page than people from other countries. Here we will refine our conversion rate calculations by country to try and determine whether this experiment is relevant for a particular country."
   ]
  },
  {
   "cell_type": "markdown",
   "id": "10516f06",
   "metadata": {},
   "source": [
    "### Merge treatment and control dataframes with countries dataframe"
   ]
  },
  {
   "cell_type": "code",
   "execution_count": 214,
   "id": "739fa2d9",
   "metadata": {},
   "outputs": [
    {
     "data": {
      "text/html": [
       "<div>\n",
       "<style scoped>\n",
       "    .dataframe tbody tr th:only-of-type {\n",
       "        vertical-align: middle;\n",
       "    }\n",
       "\n",
       "    .dataframe tbody tr th {\n",
       "        vertical-align: top;\n",
       "    }\n",
       "\n",
       "    .dataframe thead th {\n",
       "        text-align: right;\n",
       "    }\n",
       "</style>\n",
       "<table border=\"1\" class=\"dataframe\">\n",
       "  <thead>\n",
       "    <tr style=\"text-align: right;\">\n",
       "      <th></th>\n",
       "      <th>user_id</th>\n",
       "      <th>timestamp</th>\n",
       "      <th>group</th>\n",
       "      <th>landing_page</th>\n",
       "      <th>converted</th>\n",
       "      <th>dow</th>\n",
       "      <th>date</th>\n",
       "      <th>country</th>\n",
       "    </tr>\n",
       "  </thead>\n",
       "  <tbody>\n",
       "    <tr>\n",
       "      <th>0</th>\n",
       "      <td>661590</td>\n",
       "      <td>2017-01-11 16:55:06.154213</td>\n",
       "      <td>treatment</td>\n",
       "      <td>new_page</td>\n",
       "      <td>0</td>\n",
       "      <td>2</td>\n",
       "      <td>2017-01-11</td>\n",
       "      <td>US</td>\n",
       "    </tr>\n",
       "    <tr>\n",
       "      <th>1</th>\n",
       "      <td>853541</td>\n",
       "      <td>2017-01-08 18:28:03.143765</td>\n",
       "      <td>treatment</td>\n",
       "      <td>new_page</td>\n",
       "      <td>0</td>\n",
       "      <td>6</td>\n",
       "      <td>2017-01-08</td>\n",
       "      <td>US</td>\n",
       "    </tr>\n",
       "    <tr>\n",
       "      <th>2</th>\n",
       "      <td>679687</td>\n",
       "      <td>2017-01-19 03:26:46.940749</td>\n",
       "      <td>treatment</td>\n",
       "      <td>new_page</td>\n",
       "      <td>1</td>\n",
       "      <td>3</td>\n",
       "      <td>2017-01-19</td>\n",
       "      <td>CA</td>\n",
       "    </tr>\n",
       "    <tr>\n",
       "      <th>3</th>\n",
       "      <td>817355</td>\n",
       "      <td>2017-01-04 17:58:08.979471</td>\n",
       "      <td>treatment</td>\n",
       "      <td>new_page</td>\n",
       "      <td>1</td>\n",
       "      <td>2</td>\n",
       "      <td>2017-01-04</td>\n",
       "      <td>UK</td>\n",
       "    </tr>\n",
       "    <tr>\n",
       "      <th>4</th>\n",
       "      <td>839785</td>\n",
       "      <td>2017-01-15 18:11:06.610965</td>\n",
       "      <td>treatment</td>\n",
       "      <td>new_page</td>\n",
       "      <td>1</td>\n",
       "      <td>6</td>\n",
       "      <td>2017-01-15</td>\n",
       "      <td>CA</td>\n",
       "    </tr>\n",
       "  </tbody>\n",
       "</table>\n",
       "</div>"
      ],
      "text/plain": [
       "   user_id                  timestamp      group landing_page  converted  dow  \\\n",
       "0   661590 2017-01-11 16:55:06.154213  treatment     new_page          0    2   \n",
       "1   853541 2017-01-08 18:28:03.143765  treatment     new_page          0    6   \n",
       "2   679687 2017-01-19 03:26:46.940749  treatment     new_page          1    3   \n",
       "3   817355 2017-01-04 17:58:08.979471  treatment     new_page          1    2   \n",
       "4   839785 2017-01-15 18:11:06.610965  treatment     new_page          1    6   \n",
       "\n",
       "         date country  \n",
       "0  2017-01-11      US  \n",
       "1  2017-01-08      US  \n",
       "2  2017-01-19      CA  \n",
       "3  2017-01-04      UK  \n",
       "4  2017-01-15      CA  "
      ]
     },
     "execution_count": 214,
     "metadata": {},
     "output_type": "execute_result"
    }
   ],
   "source": [
    "treatment_country = pd.merge(treatment, countries, on=['user_id'])\n",
    "treatment_country.head()"
   ]
  },
  {
   "cell_type": "code",
   "execution_count": 215,
   "id": "470014d0",
   "metadata": {},
   "outputs": [
    {
     "data": {
      "text/html": [
       "<div>\n",
       "<style scoped>\n",
       "    .dataframe tbody tr th:only-of-type {\n",
       "        vertical-align: middle;\n",
       "    }\n",
       "\n",
       "    .dataframe tbody tr th {\n",
       "        vertical-align: top;\n",
       "    }\n",
       "\n",
       "    .dataframe thead th {\n",
       "        text-align: right;\n",
       "    }\n",
       "</style>\n",
       "<table border=\"1\" class=\"dataframe\">\n",
       "  <thead>\n",
       "    <tr style=\"text-align: right;\">\n",
       "      <th></th>\n",
       "      <th>user_id</th>\n",
       "      <th>timestamp</th>\n",
       "      <th>group</th>\n",
       "      <th>landing_page</th>\n",
       "      <th>converted</th>\n",
       "      <th>dow</th>\n",
       "      <th>date</th>\n",
       "      <th>country</th>\n",
       "    </tr>\n",
       "  </thead>\n",
       "  <tbody>\n",
       "    <tr>\n",
       "      <th>0</th>\n",
       "      <td>851104</td>\n",
       "      <td>2017-01-21 22:11:48.556739</td>\n",
       "      <td>control</td>\n",
       "      <td>old_page</td>\n",
       "      <td>0</td>\n",
       "      <td>5</td>\n",
       "      <td>2017-01-21</td>\n",
       "      <td>US</td>\n",
       "    </tr>\n",
       "    <tr>\n",
       "      <th>1</th>\n",
       "      <td>804228</td>\n",
       "      <td>2017-01-12 08:01:45.159739</td>\n",
       "      <td>control</td>\n",
       "      <td>old_page</td>\n",
       "      <td>0</td>\n",
       "      <td>3</td>\n",
       "      <td>2017-01-12</td>\n",
       "      <td>US</td>\n",
       "    </tr>\n",
       "    <tr>\n",
       "      <th>2</th>\n",
       "      <td>864975</td>\n",
       "      <td>2017-01-21 01:52:26.210827</td>\n",
       "      <td>control</td>\n",
       "      <td>old_page</td>\n",
       "      <td>1</td>\n",
       "      <td>5</td>\n",
       "      <td>2017-01-21</td>\n",
       "      <td>US</td>\n",
       "    </tr>\n",
       "    <tr>\n",
       "      <th>3</th>\n",
       "      <td>936923</td>\n",
       "      <td>2017-01-10 15:20:49.083499</td>\n",
       "      <td>control</td>\n",
       "      <td>old_page</td>\n",
       "      <td>0</td>\n",
       "      <td>1</td>\n",
       "      <td>2017-01-10</td>\n",
       "      <td>US</td>\n",
       "    </tr>\n",
       "    <tr>\n",
       "      <th>4</th>\n",
       "      <td>719014</td>\n",
       "      <td>2017-01-17 01:48:29.539573</td>\n",
       "      <td>control</td>\n",
       "      <td>old_page</td>\n",
       "      <td>0</td>\n",
       "      <td>1</td>\n",
       "      <td>2017-01-17</td>\n",
       "      <td>US</td>\n",
       "    </tr>\n",
       "  </tbody>\n",
       "</table>\n",
       "</div>"
      ],
      "text/plain": [
       "   user_id                  timestamp    group landing_page  converted  dow  \\\n",
       "0   851104 2017-01-21 22:11:48.556739  control     old_page          0    5   \n",
       "1   804228 2017-01-12 08:01:45.159739  control     old_page          0    3   \n",
       "2   864975 2017-01-21 01:52:26.210827  control     old_page          1    5   \n",
       "3   936923 2017-01-10 15:20:49.083499  control     old_page          0    1   \n",
       "4   719014 2017-01-17 01:48:29.539573  control     old_page          0    1   \n",
       "\n",
       "         date country  \n",
       "0  2017-01-21      US  \n",
       "1  2017-01-12      US  \n",
       "2  2017-01-21      US  \n",
       "3  2017-01-10      US  \n",
       "4  2017-01-17      US  "
      ]
     },
     "execution_count": 215,
     "metadata": {},
     "output_type": "execute_result"
    }
   ],
   "source": [
    "control_country = pd.merge(control, countries, on=['user_id'])\n",
    "control_country.head()"
   ]
  },
  {
   "cell_type": "code",
   "execution_count": 216,
   "id": "702f39c6",
   "metadata": {},
   "outputs": [],
   "source": [
    "def ab_segmentation(segment):\n",
    "    # Build a for loop for each subsegment in marketing\n",
    "    for subsegment in np.unique(control_country[segment].values):\n",
    "        print(subsegment)\n",
    "        \n",
    "        control_ss = control_country[control_country[segment] == subsegment]\n",
    "        treatment_ss = treatment_country[treatment_country[segment] == subsegment]\n",
    "        \n",
    "        print('lift = ', lift(treatment_ss[['converted']], control_ss[['converted']]))\n",
    "        print('t-statistic = ', ttest_ind(control_ss[['converted']], treatment_ss[['converted']]))"
   ]
  },
  {
   "cell_type": "code",
   "execution_count": 217,
   "id": "f8c01851",
   "metadata": {},
   "outputs": [
    {
     "name": "stdout",
     "output_type": "stream",
     "text": [
      "CA\n",
      "lift =  -5.79%\n",
      "t-statistic =  Ttest_indResult(statistic=array([1.29688567]), pvalue=array([0.19469117]))\n",
      "UK\n",
      "lift =  0.96%\n",
      "t-statistic =  Ttest_indResult(statistic=array([-0.4748853]), pvalue=array([0.63487016]))\n",
      "US\n",
      "lift =  -1.8%\n",
      "t-statistic =  Ttest_indResult(statistic=array([1.50600979]), pvalue=array([0.13206621]))\n"
     ]
    }
   ],
   "source": [
    "ab_segmentation('country')"
   ]
  },
  {
   "cell_type": "markdown",
   "id": "962a3609",
   "metadata": {},
   "source": [
    ">The A/B Test segmentation function did not produce any better results than the aggregate A/B test between the control and treatment groups.  The final recommendation is to <strong>not</strong> switch over to the new landing page."
   ]
  },
  {
   "cell_type": "code",
   "execution_count": null,
   "id": "419533c9",
   "metadata": {},
   "outputs": [],
   "source": []
  }
 ],
 "metadata": {
  "kernelspec": {
   "display_name": "Python 3",
   "language": "python",
   "name": "python3"
  },
  "language_info": {
   "codemirror_mode": {
    "name": "ipython",
    "version": 3
   },
   "file_extension": ".py",
   "mimetype": "text/x-python",
   "name": "python",
   "nbconvert_exporter": "python",
   "pygments_lexer": "ipython3",
   "version": "3.9.5"
  }
 },
 "nbformat": 4,
 "nbformat_minor": 5
}
